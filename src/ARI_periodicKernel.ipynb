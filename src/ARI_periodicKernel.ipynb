{
 "cells": [
  {
   "cell_type": "code",
   "execution_count": 1,
   "metadata": {},
   "outputs": [
    {
     "name": "stdout",
     "output_type": "stream",
     "text": [
      "ARI =  0.970516434545\n"
     ]
    }
   ],
   "source": [
    "######################################################################\n",
    "# Modelling Sleep Duration Using Gaussian Processes\n",
    "# LE49: MiniProject\n",
    "# Jan Ondras (jo356), Trinity College\n",
    "# 2017/2018\n",
    "######################################################################\n",
    "#########################################################################################\n",
    "# Calculate Adjusted Rand Index: to compare 2 clusterings based on periodic kernel (1)\n",
    "# 1.) when 4 parameters used VS 2.) only periodicity used\n",
    "# http://scikit-learn.org/stable/modules/clustering.html#adjusted-rand-index\n",
    "#########################################################################################\n",
    "\n",
    "# Load results from clustering\n",
    "from datetime import datetime, timedelta\n",
    "import matplotlib.pyplot as plt\n",
    "import numpy as np\n",
    "import time\n",
    "import glob\n",
    "from sklearn import metrics\n",
    "\n",
    "t = 'sleepduration' # type of data to extract\n",
    "types = {\n",
    "    'sleepduration': '10',\n",
    "    'bedin': '11',\n",
    "    'bedout': '12',\n",
    "    'steps': '1',\n",
    "    'weight': '2',\n",
    "    'bloodpressure': '4',\n",
    "    'heartrate': '7'\n",
    "}\n",
    "\n",
    "extra_type = '_1_x1264'     # all 4 parameters used for clustering\n",
    "data = np.load('./../Dataset/Clustering/clean_' + t + extra_type + '.npz')['c']\n",
    "labels_4 = data[:,1].astype(int)\n",
    "\n",
    "\n",
    "extra_type = '_1_x1264_1only' # only periodicity used for clustering\n",
    "data = np.load('./../Dataset/Clustering/clean_' + t + extra_type + '.npz')['c']\n",
    "labels_1 = data[:,1].astype(int)\n",
    "\n",
    "print \"ARI = \", metrics.adjusted_rand_score(labels_4, labels_1)  \n",
    "# ARI =  0.970516434545"
   ]
  },
  {
   "cell_type": "code",
   "execution_count": null,
   "metadata": {},
   "outputs": [],
   "source": []
  }
 ],
 "metadata": {
  "kernelspec": {
   "display_name": "Python 2",
   "language": "python",
   "name": "python2"
  },
  "language_info": {
   "codemirror_mode": {
    "name": "ipython",
    "version": 2
   },
   "file_extension": ".py",
   "mimetype": "text/x-python",
   "name": "python",
   "nbconvert_exporter": "python",
   "pygments_lexer": "ipython2",
   "version": "2.7.12"
  }
 },
 "nbformat": 4,
 "nbformat_minor": 2
}
